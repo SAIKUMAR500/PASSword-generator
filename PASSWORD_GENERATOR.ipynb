{
  "nbformat": 4,
  "nbformat_minor": 0,
  "metadata": {
    "colab": {
      "provenance": []
    },
    "kernelspec": {
      "name": "python3",
      "display_name": "Python 3"
    },
    "language_info": {
      "name": "python"
    }
  },
  "cells": [
    {
      "cell_type": "code",
      "source": [
        "import random\n",
        "\n",
        "def generatePassword(pwlength):\n",
        "\n",
        "    alphabet = \"abcdefghijklmnopqrstuvwxyzZXCVNMLKJHGFDSAPOIUYTREWQ123456789/*-+\"\n",
        "\n",
        "    passwords = []\n",
        "\n",
        "    for i in pwlength:\n",
        "\n",
        "        password = \"\"\n",
        "        for j in range(i):\n",
        "            next_letter_index = random.randrange(len(alphabet))\n",
        "            password = password + alphabet[next_letter_index]\n",
        "\n",
        "        password = replaceWithNumber(password)\n",
        "        password = replaceWithUppercaseLetter(password)\n",
        "\n",
        "        passwords.append(password)\n",
        "\n",
        "    return passwords\n",
        "\n",
        "\n",
        "def replaceWithNumber(pword):\n",
        "    for i in range(random.randrange(1,3)):\n",
        "        replace_index = random.randrange(len(pword)//2)\n",
        "        pword = pword[0:replace_index] + str(random.randrange(10)) + pword[replace_index+1:]\n",
        "        return pword\n",
        "\n",
        "\n",
        "def replaceWithUppercaseLetter(pword):\n",
        "    for i in range(random.randrange(1,3)):\n",
        "        replace_index = random.randrange(len(pword)//2,len(pword))\n",
        "        pword = pword[0:replace_index] + pword[replace_index].upper() + pword[replace_index+1:]\n",
        "        return pword\n",
        "\n",
        "\n",
        "\n",
        "def main():\n",
        "\n",
        "    numPasswords = int(input(\"How many passwords do you want to generate? \"))\n",
        "\n",
        "    print(\"Generating \" +str(numPasswords)+\" passwords\")\n",
        "\n",
        "    passwordLengths = []\n",
        "\n",
        "    print(\"Minimum length of password should be 3\")\n",
        "\n",
        "    for i in range(numPasswords):\n",
        "        length = int(input(\"Enter the length of Password #\" + str(i+1) + \" \"))\n",
        "        if length<3:\n",
        "            length = 3\n",
        "        passwordLengths.append(length)\n",
        "\n",
        "\n",
        "    Password = generatePassword(passwordLengths)\n",
        "\n",
        "    for i in range(numPasswords):\n",
        "        print (\"Password #\"+str(i+1)+\" = \" + Password[i])\n",
        "\n",
        "\n",
        "\n",
        "main()"
      ],
      "metadata": {
        "colab": {
          "base_uri": "https://localhost:8080/"
        },
        "id": "4FJAETbk_1A6",
        "outputId": "a2a4291e-c8a0-4d58-d30a-f4629564efb0"
      },
      "execution_count": 4,
      "outputs": [
        {
          "output_type": "stream",
          "name": "stdout",
          "text": [
            "How many passwords do you want to generate? 2\n",
            "Generating 2 passwords\n",
            "Minimum length of password should be 3\n",
            "Enter the length of Password #1 23\n",
            "Enter the length of Password #2 21\n",
            "Password #1 = lzzkYjbc7fFXyZDiMnfaubU\n",
            "Password #2 = KtP9Wn3M8muJ3Q*AAA3n+\n"
          ]
        }
      ]
    },
    {
      "cell_type": "code",
      "source": [],
      "metadata": {
        "id": "68IL1CTPACRm"
      },
      "execution_count": null,
      "outputs": []
    }
  ]
}